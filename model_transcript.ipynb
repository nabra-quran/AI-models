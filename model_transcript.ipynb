{
 "cells": [
  {
   "cell_type": "code",
   "execution_count": 135,
   "metadata": {},
   "outputs": [
    {
     "name": "stdout",
     "output_type": "stream",
     "text": [
      "          id  jozz page  sura_no sura_name_en sura_name_ar  line_start  \\\n",
      "0        1.0   1.0    1      1.0   Al-Fātiḥah   الفَاتِحة          3.0   \n",
      "1        2.0   1.0    1      1.0   Al-Fātiḥah   الفَاتِحة          3.0   \n",
      "2        3.0   1.0    1      1.0   Al-Fātiḥah   الفَاتِحة          4.0   \n",
      "3        4.0   1.0    1      1.0   Al-Fātiḥah   الفَاتِحة          4.0   \n",
      "4        5.0   1.0    1      1.0   Al-Fātiḥah   الفَاتِحة          5.0   \n",
      "...      ...   ...  ...      ...          ...          ...         ...   \n",
      "6210  6211.0  30.0  604    114.0       An-Nās     النَّاس         12.0   \n",
      "6211  6212.0  30.0  604    114.0       An-Nās     النَّاس         13.0   \n",
      "6212  6213.0  30.0  604    114.0       An-Nās     النَّاس         13.0   \n",
      "6213  6214.0  30.0  604    114.0       An-Nās     النَّاس         15.0   \n",
      "6214     NaN   NaN  NaN      NaN          NaN          NaN         NaN   \n",
      "\n",
      "      line_end  aya_no                                     aya_text  \n",
      "0          3.0     1.0    اِ۬لْحَمْدُ لِلهِ رَبِّ اِ۬لْعَٰلَمِينَ ١  \n",
      "1          4.0     2.0                اَ۬لرَّحْمَٰنِ اِ۬لرَّحِيمِ ٢  \n",
      "2          4.0     3.0                  مَلِكِ يَوْمِ اِ۬لدِّينِۖ ٣  \n",
      "3          5.0     4.0  إِيَّاكَ نَعْبُدُ وَإِيَّاكَ نَسْتَعِينُۖ ٤  \n",
      "4          6.0     5.0   اُ۪هْدِنَا اَ۬لصِّرَٰطَ اَ۬لْمُسْتَقِيمَ ٥  \n",
      "...        ...     ...                                          ...  \n",
      "6210      13.0     3.0                         إِلَٰهِ اِ۬لنَّاسِ ٣  \n",
      "6211      13.0     4.0     مِن شَرِّ اِ۬لْوَسْوَاسِ اِ۬لْخَنَّاسِ ٤  \n",
      "6212      14.0     5.0  اِ۬لذِے يُوَسْوِسُ فِے صُدُورِ اِ۬لنَّاسِ ٥  \n",
      "6213      15.0     6.0              مِنَ اَ۬لْجِنَّةِ وَالنَّاسِۖ ٦  \n",
      "6214       NaN     NaN                                               \n",
      "\n",
      "[6215 rows x 10 columns]\n"
     ]
    }
   ],
   "source": [
    "import pandas as pd\n",
    "\n",
    "# Read the Excel file into a DataFrame\n",
    "excel_file_path = \"Data/warshData_v2-1.xlsx\"\n",
    "df = pd.read_excel(excel_file_path, skiprows = 1)\n",
    "\n",
    "# Display the DataFrame\n",
    "print(df)\n"
   ]
  },
  {
   "cell_type": "code",
   "execution_count": 137,
   "metadata": {},
   "outputs": [
    {
     "name": "stdout",
     "output_type": "stream",
     "text": [
      "0        <s>اِ۬لْحَمْدُ لِلهِ رَبِّ اِ۬لْعَٰلَمِينَ ١</s>\n",
      "1                    <s>اَ۬لرَّحْمَٰنِ اِ۬لرَّحِيمِ ٢</s>\n",
      "2                      <s>مَلِكِ يَوْمِ اِ۬لدِّينِۖ ٣</s>\n",
      "3       <s>إِيَّاكَ نَعْبُدُ وَإِيَّاكَ نَسْتَعِينُۖ ٤...\n",
      "4       <s>اُ۪هْدِنَا اَ۬لصِّرَٰطَ اَ۬لْمُسْتَقِيمَ ٥</s>\n",
      "                              ...                        \n",
      "6209                           <s>مَلِكِ اِ۬لنَّاسِ ٢</s>\n",
      "6210                          <s>إِلَٰهِ اِ۬لنَّاسِ ٣</s>\n",
      "6211      <s>مِن شَرِّ اِ۬لْوَسْوَاسِ اِ۬لْخَنَّاسِ ٤</s>\n",
      "6212    <s>اِ۬لذِے يُوَسْوِسُ فِے صُدُورِ اِ۬لنَّاسِ ٥...\n",
      "6213               <s>مِنَ اَ۬لْجِنَّةِ وَالنَّاسِۖ ٦</s>\n",
      "Name: aya_text, Length: 298, dtype: object\n"
     ]
    },
    {
     "name": "stderr",
     "output_type": "stream",
     "text": [
      "C:\\Users\\souhe\\AppData\\Local\\Temp\\ipykernel_18796\\4271415096.py:4: SettingWithCopyWarning: \n",
      "A value is trying to be set on a copy of a slice from a DataFrame.\n",
      "Try using .loc[row_indexer,col_indexer] = value instead\n",
      "\n",
      "See the caveats in the documentation: https://pandas.pydata.org/pandas-docs/stable/user_guide/indexing.html#returning-a-view-versus-a-copy\n",
      "  filtered_df['aya_text'] = \"<s>\" + filtered_df['aya_text'].astype(str) + \"</s>\"\n"
     ]
    }
   ],
   "source": [
    "\n",
    "\n",
    "surah_numbers =  [1]+list(range(87, 115))\n",
    "filtered_df = df[df['sura_no'].isin(surah_numbers)]\n",
    "# Display the \"aya text\" column of the filtered DataFrame\n",
    "filtered_df['aya_text'] = \"<s>\" + filtered_df['aya_text'].astype(str) + \"</s>\"\n",
    "aya_text_series = filtered_df['aya_text']\n",
    "print(aya_text_series)\n"
   ]
  },
  {
   "cell_type": "code",
   "execution_count": null,
   "metadata": {},
   "outputs": [],
   "source": []
  },
  {
   "cell_type": "code",
   "execution_count": 138,
   "metadata": {},
   "outputs": [
    {
     "name": "stdout",
     "output_type": "stream",
     "text": [
      "0         <s>اِ۬لْحَمْدُ لِلهِ رَبِّ اِ۬لْعَٰلَمِينَ </s>\n",
      "1                     <s>اَ۬لرَّحْمَٰنِ اِ۬لرَّحِيمِ </s>\n",
      "2                       <s>مَلِكِ يَوْمِ اِ۬لدِّينِۖ </s>\n",
      "3       <s>إِيَّاكَ نَعْبُدُ وَإِيَّاكَ نَسْتَعِينُۖ </s>\n",
      "4        <s>اُ۪هْدِنَا اَ۬لصِّرَٰطَ اَ۬لْمُسْتَقِيمَ </s>\n",
      "                              ...                        \n",
      "6209                            <s>مَلِكِ اِ۬لنَّاسِ </s>\n",
      "6210                           <s>إِلَٰهِ اِ۬لنَّاسِ </s>\n",
      "6211       <s>مِن شَرِّ اِ۬لْوَسْوَاسِ اِ۬لْخَنَّاسِ </s>\n",
      "6212    <s>اِ۬لذِے يُوَسْوِسُ فِے صُدُورِ اِ۬لنَّاسِ </s>\n",
      "6213                <s>مِنَ اَ۬لْجِنَّةِ وَالنَّاسِۖ </s>\n",
      "Name: aya_text, Length: 298, dtype: object\n"
     ]
    }
   ],
   "source": [
    "\n",
    "def remove_characters(series, characters):\n",
    "    for character in characters:\n",
    "        series = series.str.replace(character, '')\n",
    "    return series.fillna('')\n",
    "\n",
    "characters_to_delete = [\"١\", \"٢\", \"٣\", \"٤\", \"٥\", \"٦\", \"٧\", \"٨\", \"٩\"]\n",
    "aya_text_series_without_characters = remove_characters(aya_text_series, characters_to_delete)\n",
    "\n",
    "print(aya_text_series_without_characters)"
   ]
  },
  {
   "cell_type": "code",
   "execution_count": 139,
   "metadata": {},
   "outputs": [
    {
     "name": "stdout",
     "output_type": "stream",
     "text": [
      "0       <s>اِ۬لْحَمْدُ لِلهِ رَبِّ اِ۬لْعَٰلَمِينَ </s...\n",
      "1         <s>اَ۬لرَّحْمَٰنِ اِ۬لرَّحِيمِ </s>001002_id001\n",
      "2           <s>مَلِكِ يَوْمِ اِ۬لدِّينِۖ </s>001003_id001\n",
      "3       <s>إِيَّاكَ نَعْبُدُ وَإِيَّاكَ نَسْتَعِينُۖ <...\n",
      "4       <s>اُ۪هْدِنَا اَ۬لصِّرَٰطَ اَ۬لْمُسْتَقِيمَ </...\n",
      "                              ...                        \n",
      "6210               <s>إِلَٰهِ اِ۬لنَّاسِ </s>114003_id001\n",
      "6211    <s>مِن شَرِّ اِ۬لْوَسْوَاسِ اِ۬لْخَنَّاسِ </s>...\n",
      "6212    <s>اِ۬لذِے يُوَسْوِسُ فِے صُدُورِ اِ۬لنَّاسِ <...\n",
      "6213    <s>مِنَ اَ۬لْجِنَّةِ وَالنَّاسِۖ </s>114006_id001\n",
      "6214                                                  NaN\n",
      "Length: 6215, dtype: object\n"
     ]
    }
   ],
   "source": [
    "concatenated_series = (aya_text_series_without_characters +\n",
    "                       df['sura_no'].astype(str).str[:-2].str.zfill(3) + \n",
    "                       df['aya_no'].astype(str).str[:-2].str.zfill(3))+\"_id001\"\n",
    "\n",
    "print(concatenated_series)\n"
   ]
  },
  {
   "cell_type": "code",
   "execution_count": 140,
   "metadata": {},
   "outputs": [],
   "source": [
    "concatenated_series.to_csv('concatenated_series.txt', index=False)\n"
   ]
  }
 ],
 "metadata": {
  "kernelspec": {
   "display_name": "Python 3",
   "language": "python",
   "name": "python3"
  },
  "language_info": {
   "codemirror_mode": {
    "name": "ipython",
    "version": 3
   },
   "file_extension": ".py",
   "mimetype": "text/x-python",
   "name": "python",
   "nbconvert_exporter": "python",
   "pygments_lexer": "ipython3",
   "version": "3.12.2"
  }
 },
 "nbformat": 4,
 "nbformat_minor": 2
}
