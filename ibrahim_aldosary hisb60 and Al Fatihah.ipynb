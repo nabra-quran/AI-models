{
 "cells": [
  {
   "cell_type": "code",
   "execution_count": 1,
   "id": "31127904",
   "metadata": {},
   "outputs": [],
   "source": [
    "base_kufi_path = \"warsh_ibrahim_aldosary_wav_files\"\n",
    "base_madani_path = \"warsh_ibrahim_aldosary_wav_files_madani_hisb_60_and_Al_Fatihah\""
   ]
  },
  {
   "cell_type": "code",
   "execution_count": 2,
   "id": "07f01d6b",
   "metadata": {},
   "outputs": [],
   "source": [
    "import wave\n",
    "import os"
   ]
  },
  {
   "cell_type": "code",
   "execution_count": 3,
   "id": "2135d8e2",
   "metadata": {},
   "outputs": [],
   "source": [
    "os.makedirs(base_madani_path, exist_ok = True)"
   ]
  },
  {
   "cell_type": "code",
   "execution_count": 4,
   "id": "c7e447b5",
   "metadata": {},
   "outputs": [],
   "source": [
    "def combine_wav(files, output_file):\n",
    "    with wave.open(files[0], 'rb') as first_file:\n",
    "        params = first_file.getparams()\n",
    "        with wave.open(output_file, 'wb') as output:\n",
    "            output.setparams(params)\n",
    "            for file in files:\n",
    "                with wave.open(file, 'rb') as input_file:\n",
    "                    output.writeframes(input_file.readframes(input_file.getnframes()))"
   ]
  },
  {
   "cell_type": "code",
   "execution_count": 5,
   "id": "7cbea49d",
   "metadata": {},
   "outputs": [],
   "source": [
    "def split_wav(input_file, output_dir, new_ayat, split_points):\n",
    "    with wave.open(input_file, 'rb') as input_wav:\n",
    "        params = input_wav.getparams()\n",
    "        frame_rate = input_wav.getframerate()\n",
    "        total_frames = input_wav.getnframes()\n",
    "        split_frames = [int(point * frame_rate) for point in split_points]\n",
    "        split_frames.append(total_frames)\n",
    "        start_frame = 0\n",
    "        for i, split_frame in enumerate(split_frames):\n",
    "            frames_to_read = split_frame - start_frame\n",
    "            frames = input_wav.readframes(frames_to_read)\n",
    "            output_file = os.path.join(output_dir, f'{new_ayat[i]}.wav')\n",
    "            with wave.open(output_file, 'wb') as output_wav:\n",
    "                output_wav.setparams(params)\n",
    "                output_wav.writeframes(frames)\n",
    "            start_frame = split_frame"
   ]
  },
  {
   "cell_type": "code",
   "execution_count": 6,
   "id": "c1142274",
   "metadata": {},
   "outputs": [],
   "source": [
    "ayat_to_combine = [ \n",
    "# [\"sura\", [\"ayat to combine\"], \"new aya\"],\n",
    "    # Al-Fajr\n",
    "    [\"089\", [\"029\", \"030\"], \"032\"],\n",
    "    # Al-Qari'ah\n",
    "    [\"101\", [\"001\", \"002\"], \"001\"],\n",
    "    # Al-Asr\n",
    "    [\"103\", [\"001\", \"002\"], \"001\"],\n",
    "    # Al-Ma'un\n",
    "    [\"107\", [\"006\", \"007\"], \"006\"]\n",
    "]"
   ]
  },
  {
   "cell_type": "code",
   "execution_count": 7,
   "id": "408a8eac",
   "metadata": {},
   "outputs": [],
   "source": [
    "for surah, ayat, new_ayah in ayat_to_combine:\n",
    "        surah_directory = os.path.join(base_kufi_path, surah)\n",
    "        output_file = f\"{base_madani_path}/{surah}/{new_ayah}.wav\"\n",
    "        wav_files = [os.path.join(surah_directory, f\"{ayat_number}.wav\") for ayat_number in ayat]\n",
    "        surah_new_path = os.path.join(base_madani_path, surah) \n",
    "        os.makedirs(surah_new_path, exist_ok = True)\n",
    "        combine_wav(wav_files, output_file)"
   ]
  },
  {
   "cell_type": "code",
   "execution_count": 8,
   "id": "2a200ffa",
   "metadata": {},
   "outputs": [],
   "source": [
    "ayat_to_split = [ \n",
    "# [\"sura\", \"aya\", [\"new ayat\"], [split at seconds]],\n",
    "    # Al-Fatiha\n",
    "    [\"001\", \"007\", [\"006\", \"007\"], [5]],\n",
    "    # Al-Fajr\n",
    "    [\"089\", \"015\", [\"015\", \"016\"], [10]],\n",
    "    [\"089\", \"016\", [\"017\", \"018\"], [9]],\n",
    "    [\"089\", \"023\", [\"025\", \"026\"], [8]],\n",
    "    # Al-Alaq\n",
    "    [\"096\", \"015\", [\"015\", \"016\"], [4]],\n",
    "    # Az-Zalzalah\n",
    "    [\"099\", \"006\", [\"006\", \"007\"], [6]],\n",
    "    # Al-Asr\n",
    "    [\"103\", \"003\", [\"002\", \"003\"], [10]],\n",
    "    # Quraysh\n",
    "    [\"106\", \"004\", [\"004\", \"005\"], [9]]\n",
    "]"
   ]
  },
  {
   "cell_type": "code",
   "execution_count": 9,
   "id": "413191e8",
   "metadata": {},
   "outputs": [],
   "source": [
    "for surah, ayah, new_ayat, split_points in ayat_to_split:\n",
    "        surah_dir = os.path.join(base_kufi_path, surah)\n",
    "        input_file = os.path.join(surah_dir, f'{ayah}.wav')\n",
    "        surah_new_path = os.path.join(base_madani_path, surah) \n",
    "        os.makedirs(surah_new_path, exist_ok = True)\n",
    "        split_wav(input_file, surah_new_path, new_ayat, split_points)"
   ]
  },
  {
   "cell_type": "code",
   "execution_count": 10,
   "id": "afca4ff5",
   "metadata": {},
   "outputs": [],
   "source": [
    "ayat_to_skip = {\n",
    "    # surah : [ayat to skip]\n",
    "    \"001\": [\"007\"],\n",
    "    \"089\": [\"015\", \"016\", \"023\", \"029\", \"030\"],\n",
    "    \"096\": [\"015\"],\n",
    "    \"099\": [\"006\"],\n",
    "    \"101\": [\"001\", \"002\"],\n",
    "    \"103\": [\"001\", \"002\", \"003\"],\n",
    "    \"106\": [\"004\"],\n",
    "    \"107\": [\"006\", \"007\"]\n",
    "}"
   ]
  },
  {
   "cell_type": "code",
   "execution_count": 11,
   "id": "c21af9da",
   "metadata": {},
   "outputs": [],
   "source": [
    "import shutil"
   ]
  },
  {
   "cell_type": "code",
   "execution_count": 12,
   "id": "3da8ed70",
   "metadata": {},
   "outputs": [],
   "source": [
    "new_ayat = {\n",
    "    \"001\": [\"006\", \"007\"],\n",
    "    \"089\": [\"015\", \"016\", \"017\", \"018\", \"025\", \"026\", \"032\"],\n",
    "    \"096\": [\"015\", \"016\"],\n",
    "    \"099\": [\"006\", \"007\"],\n",
    "    \"101\": [\"001\"],\n",
    "    \"103\": [\"001\", \"002\", \"003\"],\n",
    "    \"106\": [\"004\", \"005\"],\n",
    "    \"107\": [\"006\"]\n",
    "}"
   ]
  },
  {
   "cell_type": "code",
   "execution_count": 13,
   "id": "f00a2106",
   "metadata": {},
   "outputs": [],
   "source": [
    "def convert_to_three_digit_string(number):\n",
    "    return str(number).zfill(3)"
   ]
  },
  {
   "cell_type": "code",
   "execution_count": 14,
   "id": "388f2270",
   "metadata": {},
   "outputs": [],
   "source": [
    "def copy_and_rename_files(kufi_source_dir, destination_dir):\n",
    "    i = 1\n",
    "    for filename in os.listdir(kufi_source_dir):\n",
    "        _, surah = kufi_source_dir.split(\"/\")\n",
    "        aya = filename.split(\".\")[0]\n",
    "        if surah == \"001\" and aya == \"001\":\n",
    "            continue\n",
    "        if aya not in ayat_to_skip.get(surah, []):\n",
    "            new_aya_name = convert_to_three_digit_string(i)\n",
    "            while(new_aya_name in new_ayat.get(surah,[])):\n",
    "                i+= 1\n",
    "                new_aya_name = convert_to_three_digit_string(i)\n",
    "            new_filename = f\"{new_aya_name}.wav\" \n",
    "            shutil.copy(os.path.join(kufi_source_dir, filename), os.path.join(destination_dir, new_filename))\n",
    "            i+= 1"
   ]
  },
  {
   "cell_type": "code",
   "execution_count": 15,
   "id": "e19ce779",
   "metadata": {},
   "outputs": [],
   "source": [
    "for i in range(1, 2):\n",
    "    dirname = str(i).zfill(3)\n",
    "    os.makedirs(base_madani_path, exist_ok = True)\n",
    "    destination_dir = os.path.join(base_madani_path, dirname) \n",
    "    os.makedirs(destination_dir, exist_ok = True)\n",
    "    copy_and_rename_files(f'{base_kufi_path}/{dirname}', destination_dir)"
   ]
  },
  {
   "cell_type": "code",
   "execution_count": 16,
   "id": "8d39892e",
   "metadata": {},
   "outputs": [],
   "source": [
    "for i in range(87, 115):\n",
    "    dirname = str(i).zfill(3)\n",
    "    os.makedirs(base_madani_path, exist_ok = True)\n",
    "    destination_dir = os.path.join(base_madani_path, dirname) \n",
    "    os.makedirs(destination_dir, exist_ok = True)\n",
    "    copy_and_rename_files(f'{base_kufi_path}/{dirname}', destination_dir)"
   ]
  },
  {
   "cell_type": "code",
   "execution_count": 17,
   "id": "a0ff701b",
   "metadata": {},
   "outputs": [],
   "source": [
    "def count_files_in_directory_w(directory):\n",
    "    files = os.listdir(directory)\n",
    "    return len(files)"
   ]
  },
  {
   "cell_type": "code",
   "execution_count": 18,
   "id": "52379aec",
   "metadata": {},
   "outputs": [
    {
     "data": {
      "text/plain": [
       "298"
      ]
     },
     "execution_count": 18,
     "metadata": {},
     "output_type": "execute_result"
    }
   ],
   "source": [
    "total_ayat = 0 \n",
    "for dirname in os.listdir(base_madani_path):\n",
    "    total_ayat += count_files_in_directory_w(f'{base_madani_path}/{dirname}')\n",
    "total_ayat"
   ]
  }
 ],
 "metadata": {
  "kernelspec": {
   "display_name": "base",
   "language": "python",
   "name": "python3"
  },
  "language_info": {
   "codemirror_mode": {
    "name": "ipython",
    "version": 3
   },
   "file_extension": ".py",
   "mimetype": "text/x-python",
   "name": "python",
   "nbconvert_exporter": "python",
   "pygments_lexer": "ipython3",
   "version": "3.11.7"
  }
 },
 "nbformat": 4,
 "nbformat_minor": 5
}
