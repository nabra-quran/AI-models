{
 "cells": [
  {
   "cell_type": "code",
   "execution_count": 1,
   "id": "53a5bce6",
   "metadata": {},
   "outputs": [],
   "source": [
    "import os\n",
    "import requests\n",
    "from bs4 import BeautifulSoup"
   ]
  },
  {
   "cell_type": "code",
   "execution_count": 2,
   "id": "3d9d3e1e",
   "metadata": {},
   "outputs": [],
   "source": [
    "from pydub import AudioSegment"
   ]
  },
  {
   "cell_type": "code",
   "execution_count": 3,
   "id": "57ab8aa3",
   "metadata": {},
   "outputs": [],
   "source": [
    "def mp3_to_wav(mp3_path, wav_path):\n",
    "    audio = AudioSegment.from_mp3(mp3_path)\n",
    "    audio.export(wav_path, format=\"wav\")"
   ]
  },
  {
   "cell_type": "code",
   "execution_count": 4,
   "id": "aed12b41",
   "metadata": {},
   "outputs": [
    {
     "name": "stdout",
     "output_type": "stream",
     "text": [
      "Conversion complete:  warsh_al_husray_wav_files/096/009.wav\n"
     ]
    }
   ],
   "source": [
    "verse_path = \"warsh_al_husray_wav_files/096/009.mp3\"\n",
    "wav_path = \"warsh_al_husray_wav_files/096/009.wav\"\n",
    "mp3_to_wav(verse_path, wav_path)\n",
    "print(\"Conversion complete: \", wav_path)\n"
   ]
  },
  {
   "cell_type": "code",
   "execution_count": null,
   "id": "c69c6925",
   "metadata": {},
   "outputs": [],
   "source": []
  }
 ],
 "metadata": {
  "kernelspec": {
   "display_name": "base",
   "language": "python",
   "name": "python3"
  },
  "language_info": {
   "codemirror_mode": {
    "name": "ipython",
    "version": 3
   },
   "file_extension": ".py",
   "mimetype": "text/x-python",
   "name": "python",
   "nbconvert_exporter": "python",
   "pygments_lexer": "ipython3",
   "version": "3.11.7"
  }
 },
 "nbformat": 4,
 "nbformat_minor": 5
}
