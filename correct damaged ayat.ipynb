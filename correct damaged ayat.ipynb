{
 "cells": [
  {
   "cell_type": "markdown",
   "metadata": {},
   "source": [
    "### As-Sharh Yassin Al Jazairi has aya 004 as missed aya"
   ]
  },
  {
   "cell_type": "code",
   "execution_count": 1,
   "metadata": {},
   "outputs": [],
   "source": [
    "import wave\n",
    "import os\n",
    "import shutil"
   ]
  },
  {
   "cell_type": "code",
   "execution_count": 2,
   "metadata": {},
   "outputs": [],
   "source": [
    "draft = \"draft\"\n",
    "base_madani_path = \"warsh_yassin_al_jazaery_wav_files_madani_hisb_60_and_Al_Fatihah\""
   ]
  },
  {
   "cell_type": "code",
   "execution_count": 3,
   "metadata": {},
   "outputs": [],
   "source": [
    "def split_wav(input_file, output_dir, new_ayat, split_points):\n",
    "    with wave.open(input_file, 'rb') as input_wav:\n",
    "        params = input_wav.getparams()\n",
    "        frame_rate = input_wav.getframerate()\n",
    "        total_frames = input_wav.getnframes()\n",
    "        split_frames = [int(point * frame_rate) for point in split_points]\n",
    "        split_frames.append(total_frames)\n",
    "        start_frame = 0\n",
    "        for i, split_frame in enumerate(split_frames):\n",
    "            frames_to_read = split_frame - start_frame\n",
    "            frames = input_wav.readframes(frames_to_read)\n",
    "            output_file = os.path.join(output_dir, f'{new_ayat[i]}.wav')\n",
    "            with wave.open(output_file, 'wb') as output_wav:\n",
    "                output_wav.setparams(params)\n",
    "                output_wav.writeframes(frames)\n",
    "            start_frame = split_frame"
   ]
  },
  {
   "cell_type": "code",
   "execution_count": 4,
   "metadata": {},
   "outputs": [],
   "source": [
    "input_file = \"draft/As-Sharh Yassin Al Jazairi.wav\"\n",
    "surah_new_path = \"draft/As-Sharh\" \n",
    "os.makedirs(surah_new_path, exist_ok = True)\n",
    "new_ayat = [\"from_start_to_4\", \"from_4_to_end\"]\n",
    "split_points = [16.2]\n",
    "split_wav(input_file, surah_new_path, new_ayat, split_points)\n",
    "\n",
    "input_file = \"draft/As-Sharh/from_4_to_end.wav\"\n",
    "surah_new_path = \"draft/As-Sharh\" \n",
    "os.makedirs(surah_new_path, exist_ok = True)\n",
    "new_ayat = [\"004\", \"from_5_to_end\"]\n",
    "split_points = [3.2]\n",
    "split_wav(input_file, surah_new_path, new_ayat, split_points)\n"
   ]
  },
  {
   "cell_type": "code",
   "execution_count": 5,
   "metadata": {},
   "outputs": [
    {
     "data": {
      "text/plain": [
       "'warsh_yassin_al_jazaery_wav_files_madani_hisb_60_and_Al_Fatihah/094/004.wav'"
      ]
     },
     "execution_count": 5,
     "metadata": {},
     "output_type": "execute_result"
    }
   ],
   "source": [
    "shutil.copy(\"draft/As-Sharh/004.wav\", f\"{base_madani_path}/094/004.wav\")"
   ]
  },
  {
   "cell_type": "code",
   "execution_count": 6,
   "metadata": {},
   "outputs": [],
   "source": [
    "input_file = \"draft/As-Sharh Yassin Al Jazairi.wav\"\n",
    "surah_new_path = \"draft/As-Sharh\" \n",
    "os.makedirs(surah_new_path, exist_ok = True)\n",
    "new_ayat = [\"from_start_to_5\", \"from_5_to_end\"]\n",
    "split_points = [19.4]\n",
    "split_wav(input_file, surah_new_path, new_ayat, split_points)\n",
    "\n",
    "input_file = \"draft/As-Sharh/from_5_to_end.wav\"\n",
    "surah_new_path = \"draft/As-Sharh\" \n",
    "os.makedirs(surah_new_path, exist_ok = True)\n",
    "new_ayat = [\"005\", \"from_6_to_end\"]\n",
    "split_points = [3.2]\n",
    "split_wav(input_file, surah_new_path, new_ayat, split_points)"
   ]
  },
  {
   "cell_type": "code",
   "execution_count": 7,
   "metadata": {},
   "outputs": [
    {
     "data": {
      "text/plain": [
       "'warsh_yassin_al_jazaery_wav_files_madani_hisb_60_and_Al_Fatihah/094/005.wav'"
      ]
     },
     "execution_count": 7,
     "metadata": {},
     "output_type": "execute_result"
    }
   ],
   "source": [
    "shutil.copy(\"draft/As-Sharh/005.wav\", f\"{base_madani_path}/094/005.wav\")"
   ]
  },
  {
   "cell_type": "markdown",
   "metadata": {},
   "source": [
    "### Al 'Alaq Yassin Al Jazairi has aya 020 demaged"
   ]
  },
  {
   "cell_type": "code",
   "execution_count": 8,
   "metadata": {},
   "outputs": [],
   "source": [
    "input_file = \"draft/Al 'Alaq Yassine Al Jazairi.wav\"\n",
    "surah_new_path = \"draft/Al'Alaq\" \n",
    "os.makedirs(surah_new_path, exist_ok = True)\n",
    "new_ayat = [\"from_start_to_20\", \"020\"]\n",
    "split_points = [89.8]\n",
    "split_wav(input_file, surah_new_path, new_ayat, split_points)"
   ]
  },
  {
   "cell_type": "code",
   "execution_count": 9,
   "metadata": {},
   "outputs": [
    {
     "data": {
      "text/plain": [
       "'warsh_yassin_al_jazaery_wav_files_madani_hisb_60_and_Al_Fatihah/096/020.wav'"
      ]
     },
     "execution_count": 9,
     "metadata": {},
     "output_type": "execute_result"
    }
   ],
   "source": [
    "shutil.copy(\"draft/Al'Alaq/020.wav\", f\"{base_madani_path}/096/020.wav\")"
   ]
  },
  {
   "cell_type": "markdown",
   "metadata": {},
   "source": [
    "### Al Ma'un Yassin Al Jazairi has aya 006 demaged"
   ]
  },
  {
   "cell_type": "code",
   "execution_count": 10,
   "metadata": {},
   "outputs": [],
   "source": [
    "from pydub import AudioSegment"
   ]
  },
  {
   "cell_type": "code",
   "execution_count": 11,
   "metadata": {},
   "outputs": [
    {
     "data": {
      "text/plain": [
       "<_io.BufferedRandom name=\"draft/Al-Ma'un Yassine Al Jazairi.wav\">"
      ]
     },
     "execution_count": 11,
     "metadata": {},
     "output_type": "execute_result"
    }
   ],
   "source": [
    "audio = AudioSegment.from_mp3(\"draft/Al-Ma'un Yassine Al Jazairi.mp3\")\n",
    "audio.export(\"draft/Al-Ma'un Yassine Al Jazairi.wav\", format = \"wav\")"
   ]
  },
  {
   "cell_type": "code",
   "execution_count": 12,
   "metadata": {},
   "outputs": [],
   "source": [
    "input_file = \"draft/Al-Ma'un Yassine Al Jazairi.wav\"\n",
    "surah_new_path = \"draft/Al-Ma'un\" \n",
    "os.makedirs(surah_new_path, exist_ok = True)\n",
    "new_ayat = [\"from_start_to_6\", \"006\"]\n",
    "split_points = [29]\n",
    "split_wav(input_file, surah_new_path, new_ayat, split_points)"
   ]
  },
  {
   "cell_type": "code",
   "execution_count": 13,
   "metadata": {},
   "outputs": [
    {
     "data": {
      "text/plain": [
       "'warsh_yassin_al_jazaery_wav_files_madani_hisb_60_and_Al_Fatihah/107/006.wav'"
      ]
     },
     "execution_count": 13,
     "metadata": {},
     "output_type": "execute_result"
    }
   ],
   "source": [
    "shutil.copy(\"draft/Al-Ma'un/006.wav\", f\"{base_madani_path}/107/006.wav\")"
   ]
  }
 ],
 "metadata": {
  "kernelspec": {
   "display_name": "base",
   "language": "python",
   "name": "python3"
  },
  "language_info": {
   "codemirror_mode": {
    "name": "ipython",
    "version": 3
   },
   "file_extension": ".py",
   "mimetype": "text/x-python",
   "name": "python",
   "nbconvert_exporter": "python",
   "pygments_lexer": "ipython3",
   "version": "3.11.7"
  }
 },
 "nbformat": 4,
 "nbformat_minor": 2
}
